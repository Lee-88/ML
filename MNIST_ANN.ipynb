{
 "cells": [
  {
   "cell_type": "markdown",
   "id": "907d6fdb",
   "metadata": {},
   "source": [
    "# MNIST Artificial Neural Network"
   ]
  },
  {
   "cell_type": "code",
   "execution_count": 1,
   "id": "4f47c85a",
   "metadata": {},
   "outputs": [],
   "source": [
    "#load libraries\n",
    "import tensorflow as tf\n",
    "import tensorflow_datasets as tfds\n",
    "import numpy as np\n",
    "import matplotlib.pyplot as plt\n",
    "%matplotlib inline\n",
    "from IPython.display import HTML, display"
   ]
  },
  {
   "cell_type": "code",
   "execution_count": 2,
   "id": "32706215",
   "metadata": {},
   "outputs": [],
   "source": [
    "train_data, test_data = tfds.load('mnist', split=['train', 'test'])\n",
    "class_names = ['Zero', 'One', 'Two', 'Three', 'Four', 'Five', 'Six', 'Seven', 'Eight', 'Nine']"
   ]
  },
  {
   "cell_type": "code",
   "execution_count": 3,
   "id": "51ce18e0",
   "metadata": {},
   "outputs": [],
   "source": [
    "def transform(elm):\n",
    "    return (tf.cast(elm['image'], tf.float32) / 255, tf.one_hot(elm['label'], 10) #1-0, one-hot encoding\n",
    "           )\n",
    "train_validation_data = train_data.map(transform, num_parallel_calls=tf.data.AUTOTUNE)"
   ]
  },
  {
   "cell_type": "code",
   "execution_count": 4,
   "id": "0eb3ede8",
   "metadata": {},
   "outputs": [],
   "source": [
    "# Take the elements at index 9, 19, 29... into the validation dataset\n",
    "validation_data = train_validation_data.shard(10, 9)\n",
    "validation_data = validation_data.batch(64)\n",
    "validation_data = validation_data.cache()\n",
    "validation_data = validation_data.prefetch(tf.data.AUTOTUNE)"
   ]
  },
  {
   "cell_type": "code",
   "execution_count": 5,
   "id": "385111e1",
   "metadata": {},
   "outputs": [],
   "source": [
    "# Create a new train_data dataset. Append the remaining shards of the train_validation_data dataset.\n",
    "train_data = train_validation_data.shard(10, 8)\n",
    "for i in range(8):\n",
    "    train_data = train_data.concatenate(train_validation_data.shard(10, i))\n",
    "train_data = train_data.cache()\n",
    "train_data = train_data.shuffle(len(train_data))\n",
    "train_data = train_data.batch(64)\n",
    "train_data = train_data.prefetch(tf.data.AUTOTUNE)"
   ]
  },
  {
   "cell_type": "code",
   "execution_count": 6,
   "id": "6a2e6cf7",
   "metadata": {},
   "outputs": [],
   "source": [
    "test_data = test_data.map(\n",
    "    transform, num_parallel_calls=tf.data.AUTOTUNE)\n",
    "test_data = test_data.batch(64)\n",
    "test_data = test_data.cache()\n",
    "test_data = test_data.prefetch(tf.data.AUTOTUNE)"
   ]
  },
  {
   "cell_type": "code",
   "execution_count": 15,
   "id": "796619ab",
   "metadata": {
    "scrolled": false
   },
   "outputs": [
    {
     "data": {
      "image/png": "[encoded data removed]",
      "text/plain": [
       "<Figure size 1000x1000 with 5 Axes>"
      ]
     },
     "metadata": {},
     "output_type": "display_data"
    }
   ],
   "source": [
    "imgs, labels = train_data.as_numpy_iterator().next()\n",
    "plt.figure(figsize=(10,10)) \n",
    "for i in range(5):\n",
    "    plt.subplot(1,5,i+1)\n",
    "    plt.imshow(imgs[i], cmap=plt.cm.binary)\n",
    "    plt.xticks([])\n",
    "    plt.yticks([])\n",
    "    plt.grid(False)\n",
    "    plt.title(class_names[np.argmax(labels[i])])\n",
    "plt.show()"
   ]
  },
  {
   "cell_type": "code",
   "execution_count": 22,
   "id": "418dd902",
   "metadata": {},
   "outputs": [],
   "source": [
    "model = tf.keras.Sequential([\n",
    "    tf.keras.layers.Flatten(input_shape=(28,28)),\n",
    "    tf.keras.layers.Dense(320, activation='relu'),\n",
    "    tf.keras.layers.Dense(240, activation='relu'),\n",
    "    tf.keras.layers.Dense(10, activation='softmax')\n",
    "])\n",
    "opt = tf.keras.optimizers.Adam(learning_rate=0.0095)\n",
    "model.compile(optimizer=opt,\n",
    "              loss='categorical_crossentropy',\n",
    "              metrics=['accuracy'])"
   ]
  },
  {
   "cell_type": "code",
   "execution_count": 23,
   "id": "5b09878e",
   "metadata": {},
   "outputs": [
    {
     "name": "stdout",
     "output_type": "stream",
     "text": [
      "Epoch 1/50\n",
      "844/844 [==============================] - 3s 3ms/step - loss: 0.2551 - accuracy: 0.9252 - val_loss: 0.2158 - val_accuracy: 0.9418\n",
      "Epoch 2/50\n",
      "844/844 [==============================] - 3s 3ms/step - loss: 0.1571 - accuracy: 0.9561 - val_loss: 0.1594 - val_accuracy: 0.9573\n",
      "Epoch 3/50\n",
      "844/844 [==============================] - 3s 3ms/step - loss: 0.1341 - accuracy: 0.9621 - val_loss: 0.1896 - val_accuracy: 0.9557\n",
      "Epoch 4/50\n",
      "844/844 [==============================] - 3s 3ms/step - loss: 0.1123 - accuracy: 0.9687 - val_loss: 0.1507 - val_accuracy: 0.9645\n",
      "Epoch 5/50\n",
      "844/844 [==============================] - 3s 3ms/step - loss: 0.1130 - accuracy: 0.9692 - val_loss: 0.1639 - val_accuracy: 0.9642\n",
      "Epoch 6/50\n",
      "844/844 [==============================] - 3s 3ms/step - loss: 0.0930 - accuracy: 0.9751 - val_loss: 0.1601 - val_accuracy: 0.9660\n",
      "Epoch 7/50\n",
      "844/844 [==============================] - 3s 3ms/step - loss: 0.0933 - accuracy: 0.9742 - val_loss: 0.1730 - val_accuracy: 0.9623\n",
      "Epoch 8/50\n",
      "844/844 [==============================] - 3s 3ms/step - loss: 0.0962 - accuracy: 0.9747 - val_loss: 0.1807 - val_accuracy: 0.9655\n",
      "Epoch 9/50\n",
      "844/844 [==============================] - 2s 3ms/step - loss: 0.0836 - accuracy: 0.9780 - val_loss: 0.1681 - val_accuracy: 0.9702\n",
      "Epoch 10/50\n",
      "844/844 [==============================] - 3s 3ms/step - loss: 0.0791 - accuracy: 0.9791 - val_loss: 0.2330 - val_accuracy: 0.9575\n",
      "Epoch 11/50\n",
      "844/844 [==============================] - 3s 3ms/step - loss: 0.0833 - accuracy: 0.9794 - val_loss: 0.1791 - val_accuracy: 0.9685\n",
      "Epoch 12/50\n",
      "844/844 [==============================] - 3s 3ms/step - loss: 0.0814 - accuracy: 0.9806 - val_loss: 0.2050 - val_accuracy: 0.9673\n",
      "Epoch 13/50\n",
      "844/844 [==============================] - 3s 3ms/step - loss: 0.0799 - accuracy: 0.9806 - val_loss: 0.1717 - val_accuracy: 0.9653\n",
      "Epoch 14/50\n",
      "844/844 [==============================] - 2s 3ms/step - loss: 0.0622 - accuracy: 0.9840 - val_loss: 0.1826 - val_accuracy: 0.9690\n",
      "Epoch 15/50\n",
      "844/844 [==============================] - 3s 3ms/step - loss: 0.0641 - accuracy: 0.9846 - val_loss: 0.2215 - val_accuracy: 0.9698\n",
      "Epoch 16/50\n",
      "844/844 [==============================] - 2s 3ms/step - loss: 0.0751 - accuracy: 0.9829 - val_loss: 0.1851 - val_accuracy: 0.9703\n",
      "Epoch 17/50\n",
      "844/844 [==============================] - 3s 3ms/step - loss: 0.0560 - accuracy: 0.9859 - val_loss: 0.1872 - val_accuracy: 0.9695\n",
      "Epoch 18/50\n",
      "844/844 [==============================] - 3s 3ms/step - loss: 0.0578 - accuracy: 0.9851 - val_loss: 0.2475 - val_accuracy: 0.9675\n",
      "Epoch 19/50\n",
      "844/844 [==============================] - 3s 3ms/step - loss: 0.0663 - accuracy: 0.9842 - val_loss: 0.2849 - val_accuracy: 0.9627\n",
      "Epoch 20/50\n",
      "844/844 [==============================] - 3s 3ms/step - loss: 0.0636 - accuracy: 0.9846 - val_loss: 0.2198 - val_accuracy: 0.9680\n",
      "Epoch 21/50\n",
      "844/844 [==============================] - 2s 3ms/step - loss: 0.0686 - accuracy: 0.9846 - val_loss: 0.2373 - val_accuracy: 0.9663\n",
      "Epoch 22/50\n",
      "844/844 [==============================] - 3s 3ms/step - loss: 0.0556 - accuracy: 0.9869 - val_loss: 0.2295 - val_accuracy: 0.9702\n",
      "Epoch 23/50\n",
      "844/844 [==============================] - 3s 3ms/step - loss: 0.0525 - accuracy: 0.9879 - val_loss: 0.2552 - val_accuracy: 0.9675\n",
      "Epoch 24/50\n",
      "844/844 [==============================] - 2s 3ms/step - loss: 0.0536 - accuracy: 0.9880 - val_loss: 0.2234 - val_accuracy: 0.9688\n",
      "Epoch 25/50\n",
      "844/844 [==============================] - 3s 3ms/step - loss: 0.0466 - accuracy: 0.9886 - val_loss: 0.2286 - val_accuracy: 0.9685\n",
      "Epoch 26/50\n",
      "844/844 [==============================] - 3s 3ms/step - loss: 0.0584 - accuracy: 0.9874 - val_loss: 0.2989 - val_accuracy: 0.9672\n",
      "Epoch 27/50\n",
      "844/844 [==============================] - 3s 3ms/step - loss: 0.0499 - accuracy: 0.9886 - val_loss: 0.2470 - val_accuracy: 0.9713\n",
      "Epoch 28/50\n",
      "844/844 [==============================] - 3s 3ms/step - loss: 0.0409 - accuracy: 0.9906 - val_loss: 0.2462 - val_accuracy: 0.9722\n",
      "Epoch 29/50\n",
      "844/844 [==============================] - 3s 3ms/step - loss: 0.0439 - accuracy: 0.9896 - val_loss: 0.2657 - val_accuracy: 0.9703\n",
      "Epoch 30/50\n",
      "844/844 [==============================] - 3s 3ms/step - loss: 0.0616 - accuracy: 0.9881 - val_loss: 0.3168 - val_accuracy: 0.9692\n",
      "Epoch 31/50\n",
      "844/844 [==============================] - 3s 3ms/step - loss: 0.0582 - accuracy: 0.9878 - val_loss: 0.3278 - val_accuracy: 0.9695\n",
      "Epoch 32/50\n",
      "844/844 [==============================] - 2s 3ms/step - loss: 0.0509 - accuracy: 0.9891 - val_loss: 0.4090 - val_accuracy: 0.9678\n",
      "Epoch 33/50\n",
      "844/844 [==============================] - 3s 3ms/step - loss: 0.0455 - accuracy: 0.9898 - val_loss: 0.3017 - val_accuracy: 0.9697\n",
      "Epoch 34/50\n",
      "844/844 [==============================] - 3s 3ms/step - loss: 0.0503 - accuracy: 0.9890 - val_loss: 0.3253 - val_accuracy: 0.9660\n",
      "Epoch 35/50\n",
      "844/844 [==============================] - 3s 3ms/step - loss: 0.0536 - accuracy: 0.9891 - val_loss: 0.3302 - val_accuracy: 0.9703\n",
      "Epoch 36/50\n",
      "844/844 [==============================] - 2s 3ms/step - loss: 0.0530 - accuracy: 0.9890 - val_loss: 0.3031 - val_accuracy: 0.9717\n",
      "Epoch 37/50\n",
      "844/844 [==============================] - 3s 3ms/step - loss: 0.0436 - accuracy: 0.9909 - val_loss: 0.3162 - val_accuracy: 0.9692\n",
      "Epoch 38/50\n",
      "844/844 [==============================] - 3s 3ms/step - loss: 0.0640 - accuracy: 0.9889 - val_loss: 0.2954 - val_accuracy: 0.9720\n",
      "Epoch 39/50\n",
      "844/844 [==============================] - 3s 3ms/step - loss: 0.0530 - accuracy: 0.9893 - val_loss: 0.3297 - val_accuracy: 0.9685\n",
      "Epoch 40/50\n",
      "844/844 [==============================] - 3s 3ms/step - loss: 0.0375 - accuracy: 0.9914 - val_loss: 0.3801 - val_accuracy: 0.9692\n",
      "Epoch 41/50\n",
      "844/844 [==============================] - 3s 3ms/step - loss: 0.0469 - accuracy: 0.9908 - val_loss: 0.4263 - val_accuracy: 0.9728\n",
      "Epoch 42/50\n",
      "844/844 [==============================] - 3s 3ms/step - loss: 0.0475 - accuracy: 0.9904 - val_loss: 0.4004 - val_accuracy: 0.9667\n",
      "Epoch 43/50\n",
      "844/844 [==============================] - 3s 3ms/step - loss: 0.0509 - accuracy: 0.9896 - val_loss: 0.3777 - val_accuracy: 0.9680\n",
      "Epoch 44/50\n",
      "844/844 [==============================] - 3s 3ms/step - loss: 0.0589 - accuracy: 0.9895 - val_loss: 0.4153 - val_accuracy: 0.9698\n",
      "Epoch 45/50\n",
      "844/844 [==============================] - 3s 3ms/step - loss: 0.0472 - accuracy: 0.9914 - val_loss: 0.4068 - val_accuracy: 0.9685\n",
      "Epoch 46/50\n",
      "844/844 [==============================] - 3s 3ms/step - loss: 0.0378 - accuracy: 0.9910 - val_loss: 0.4338 - val_accuracy: 0.9708\n",
      "Epoch 47/50\n",
      "844/844 [==============================] - 3s 3ms/step - loss: 0.0573 - accuracy: 0.9887 - val_loss: 0.3862 - val_accuracy: 0.9718\n",
      "Epoch 48/50\n",
      "844/844 [==============================] - 3s 3ms/step - loss: 0.0465 - accuracy: 0.9914 - val_loss: 0.5363 - val_accuracy: 0.9677\n",
      "Epoch 49/50\n",
      "844/844 [==============================] - 3s 3ms/step - loss: 0.0552 - accuracy: 0.9896 - val_loss: 0.3175 - val_accuracy: 0.9722\n",
      "Epoch 50/50\n",
      "844/844 [==============================] - 3s 3ms/step - loss: 0.0353 - accuracy: 0.9920 - val_loss: 0.3404 - val_accuracy: 0.9703\n"
     ]
    }
   ],
   "source": [
    "history = model.fit(train_data,\n",
    "    validation_data=validation_data,\n",
    "    epochs=50,\n",
    "         )"
   ]
  },
  {
   "cell_type": "code",
   "execution_count": 24,
   "id": "7dc81d61",
   "metadata": {
    "scrolled": true
   },
   "outputs": [
    {
     "data": {
      "image/png": "[encoded data removed]",
      "text/plain": [
       "<Figure size 640x480 with 1 Axes>"
      ]
     },
     "metadata": {},
     "output_type": "display_data"
    },
    {
     "data": {
      "text/plain": [
       "<Figure size 640x480 with 0 Axes>"
      ]
     },
     "metadata": {},
     "output_type": "display_data"
    }
   ],
   "source": [
    "plt.plot(range(len(history.history['accuracy'])), history.history['accuracy'], 'ro', label='Training acc')\n",
    "plt.plot(range(len(history.history['accuracy'])), history.history['val_accuracy'], 'b', label='Validation acc')\n",
    "plt.title('Training & Validation acc')\n",
    "plt.legend()\n",
    "plt.figure()\n",
    "plt.show()"
   ]
  },
  {
   "cell_type": "code",
   "execution_count": 25,
   "id": "7ed71919",
   "metadata": {},
   "outputs": [
    {
     "name": "stdout",
     "output_type": "stream",
     "text": [
      "157/157 [==============================] - 0s 2ms/step - loss: 0.3027 - accuracy: 0.9712\n"
     ]
    },
    {
     "data": {
      "text/plain": [
       "{'loss': 0.30267083644866943, 'accuracy': 0.9711999893188477}"
      ]
     },
     "execution_count": 25,
     "metadata": {},
     "output_type": "execute_result"
    }
   ],
   "source": [
    "model.evaluate(test_data, return_dict=True)"
   ]
  }
 ],
 "metadata": {
  "kernelspec": {
   "display_name": "Python 3 (ipykernel)",
   "language": "python",
   "name": "python3"
  },
  "language_info": {
   "codemirror_mode": {
    "name": "ipython",
    "version": 3
   },
   "file_extension": ".py",
   "mimetype": "text/x-python",
   "name": "python",
   "nbconvert_exporter": "python",
   "pygments_lexer": "ipython3",
   "version": "3.8.5"
  }
 },
 "nbformat": 4,
 "nbformat_minor": 5
}
