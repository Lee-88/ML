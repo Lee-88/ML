{
 "cells": [
  {
   "cell_type": "markdown",
   "id": "441ccb72",
   "metadata": {},
   "source": [
    "# Set-Up RL Environment"
   ]
  },
  {
   "cell_type": "code",
   "execution_count": null,
   "id": "8e914d10",
   "metadata": {},
   "outputs": [],
   "source": [
    "!pip install --force-reinstall tensorflow\n",
    "!pip install --force-reinstall tensorflow-probability==0.8.0\n",
    "!pip install --force-reinstall tfp-nightly\n",
    "!pip install --force-reinstall tf-agents==0.16.0\n",
    "!pip install --force-reinstall numpy==1.23"
   ]
  },
  {
   "cell_type": "code",
   "execution_count": 1,
   "id": "7ddf9f64",
   "metadata": {
    "scrolled": false
   },
   "outputs": [],
   "source": [
    "import tensorflow as tf"
   ]
  },
  {
   "cell_type": "code",
   "execution_count": 2,
   "id": "85df94f4",
   "metadata": {},
   "outputs": [],
   "source": [
    "from tensorflow import keras\n",
    "from keras.models import Sequential\n",
    "from keras.layers import Dense"
   ]
  },
  {
   "cell_type": "code",
   "execution_count": 3,
   "id": "94215da2",
   "metadata": {},
   "outputs": [
    {
     "name": "stdout",
     "output_type": "stream",
     "text": [
      "2.12.0\n"
     ]
    }
   ],
   "source": [
    "print(tf. __version__)"
   ]
  },
  {
   "cell_type": "code",
   "execution_count": 4,
   "id": "f0ace7f6",
   "metadata": {},
   "outputs": [],
   "source": [
    "import sys as _sys\n",
    "from tf_agents import agents\n",
    "from tf_agents import bandits\n",
    "from tf_agents import distributions\n",
    "from tf_agents import drivers\n",
    "from tf_agents import environments\n",
    "from tf_agents import eval  # pylint: disable=redefined-builtin\n",
    "from tf_agents import experimental\n",
    "from tf_agents import keras_layers\n",
    "from tf_agents import metrics\n",
    "from tf_agents import networks\n",
    "from tf_agents import policies\n",
    "from tf_agents import replay_buffers\n",
    "from tf_agents import specs\n",
    "from tf_agents import system\n",
    "from tf_agents import train\n",
    "from tf_agents import trajectories\n",
    "from tf_agents import typing\n",
    "from tf_agents import utils\n",
    "from tf_agents import version\n",
    "from tf_agents.agents.dqn import dqn_agent\n",
    "from tf_agents.version import __version__"
   ]
  }
 ],
 "metadata": {
  "kernelspec": {
   "display_name": "Python 3 (ipykernel)",
   "language": "python",
   "name": "python3"
  },
  "language_info": {
   "codemirror_mode": {
    "name": "ipython",
    "version": 3
   },
   "file_extension": ".py",
   "mimetype": "text/x-python",
   "name": "python",
   "nbconvert_exporter": "python",
   "pygments_lexer": "ipython3",
   "version": "3.8.5"
  }
 },
 "nbformat": 4,
 "nbformat_minor": 5
}
